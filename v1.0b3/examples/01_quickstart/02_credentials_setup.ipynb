{
 "cells": [
  {
   "cell_type": "markdown",
   "metadata": {},
   "source": [
    "# Credentials Setup"
   ]
  },
  {
   "cell_type": "markdown",
   "metadata": {},
   "source": [
    "## Authentication\n",
    "\n",
    "Before we can do anything with CARTOframes, we need to authenticate against a CARTO account by passing in CARTO credentials. You will need your username (or base_url) and an API key, which can be found at http://your_user_name.carto.com/your_apps.\n",
    "\n",
    "* `username`: the name of the user CARTO account.\n",
    "* `base_url`: which is the URL of your CARTO account (`https://your_user_name.carto.com/`)\n",
    "* `api_key`: if the dataset is **public**, we can use `default_public`. Otherwise, we need to set the API key.\n",
    "\n",
    "There are two ways to use our credentials:\n",
    "\n",
    "1. Setting the same credentials by default, which is called the **Default Credentials**\n",
    "2. Creating different credentials and passing them to the Map, Layer or Source we want to create, by using the `Credentials` class."
   ]
  },
  {
   "cell_type": "markdown",
   "metadata": {},
   "source": [
    "### Default Credentials"
   ]
  },
  {
   "cell_type": "code",
   "execution_count": null,
   "metadata": {},
   "outputs": [],
   "source": [
    "from cartoframes.auth import set_default_credentials\n",
    "\n",
    "set_default_credentials(\n",
    "    username='your_user_name',\n",
    "    api_key='your_api_key'\n",
    ")\n",
    "\n",
    "# or\n",
    "\n",
    "set_default_credentials(\n",
    "    base_url='https://your_user_name.carto.com/',\n",
    "    api_key='your_api_key'\n",
    ")"
   ]
  },
  {
   "cell_type": "markdown",
   "metadata": {},
   "source": [
    "### Layer Credentials"
   ]
  },
  {
   "cell_type": "code",
   "execution_count": null,
   "metadata": {},
   "outputs": [],
   "source": [
    "from cartoframes.auth import Credentials\n",
    "from cartoframes.viz import Map, Layer\n",
    "\n",
    "visualization = Map(\n",
    "    Layer(\n",
    "        'dataset',\n",
    "        credentials=Credentials('https://your_user_name.carto.com/')\n",
    "    )\n",
    ")"
   ]
  },
  {
   "cell_type": "code",
   "execution_count": null,
   "metadata": {},
   "outputs": [],
   "source": [
    "from cartoframes.auth import Credentials\n",
    "from cartoframes.viz import Map, Layer\n",
    "\n",
    "credentials_a = Credentials('your_user_name_a')\n",
    "credentials_b = Credentials('your_user_name_b')\n",
    "\n",
    "visualization = Map([\n",
    "    Layer('dataset_a', credentials=credentials_a),\n",
    "    Layer('dataset_b', credentials=credentials_b)\n",
    "])"
   ]
  },
  {
   "cell_type": "markdown",
   "metadata": {},
   "source": [
    "### Source Credentials"
   ]
  },
  {
   "cell_type": "code",
   "execution_count": null,
   "metadata": {},
   "outputs": [],
   "source": [
    "from cartoframes.auth import Credentials\n",
    "from cartoframes.viz import Map, Layer, Source\n",
    "\n",
    "visualization = Map(\n",
    "    Layer(\n",
    "        Source(\n",
    "            'dataset',\n",
    "            Credentials('your_user_name', 'your_api_key')\n",
    "        )\n",
    "    )\n",
    ")"
   ]
  },
  {
   "cell_type": "code",
   "execution_count": null,
   "metadata": {},
   "outputs": [],
   "source": [
    "from cartoframes.auth import Credentials\n",
    "from cartoframes.viz import Map, Layer, Source\n",
    "\n",
    "credentials_a = Credentials('your_user_name_a')\n",
    "credentials_b = Credentials('your_user_name_b')\n",
    "\n",
    "source_a = Source('table_name_a', credentials_a)\n",
    "source_b = Source('table_name_b', credentials_b)\n",
    "\n",
    "visualization = Map([\n",
    "    Layer(source_a),\n",
    "    Layer(source_b)\n",
    "])"
   ]
  }
 ],
 "metadata": {
  "kernelspec": {
   "display_name": "Python 3",
   "language": "python",
   "name": "python3"
  },
  "language_info": {
   "codemirror_mode": {
    "name": "ipython",
    "version": 3
   },
   "file_extension": ".py",
   "mimetype": "text/x-python",
   "name": "python",
   "nbconvert_exporter": "python",
   "pygments_lexer": "ipython3",
   "version": "3.6.7"
  }
 },
 "nbformat": 4,
 "nbformat_minor": 2
}
