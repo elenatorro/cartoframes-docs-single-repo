{
 "cells": [
  {
   "cell_type": "code",
   "execution_count": 1,
   "metadata": {},
   "outputs": [],
   "source": [
    "message = '''\n",
    "<h3>Subscription contract</h3>\n",
    "You are about to subscribe to <b>%{dataset_name}</b>. The cost of this dataset is <b>$%{price}/%{update_frequency}</b>. If you want to proceed, a Request will be sent to CARTO who will order the data and load it into your account. This dataset is available for Instant Order for your organization, so it will automatically process the order and you will get inmediate access to the dataset. In order to proceed we need you to agree to the License of the dataset available at http://adasdasd.<br>Do you want to proceed?\n",
    "'''"
   ]
  },
  {
   "cell_type": "code",
   "execution_count": 2,
   "metadata": {},
   "outputs": [
    {
     "data": {
      "application/vnd.jupyter.widget-view+json": {
       "model_id": "85ff89cd96bf472cbf5255f0aa5ac59e",
       "version_major": 2,
       "version_minor": 0
      },
      "text/plain": [
       "HTML(value='\\n<h3>Subscription contract</h3>\\nYou are about to subscribe to <b>%{dataset_name}</b>. The cost o…"
      ]
     },
     "metadata": {},
     "output_type": "display_data"
    },
    {
     "data": {
      "application/vnd.jupyter.widget-view+json": {
       "model_id": "46c18dfd7228439cbe86474dc4cdc579",
       "version_major": 2,
       "version_minor": 0
      },
      "text/plain": [
       "GridspecLayout(children=(Button(button_style='info', description='Yes', layout=Layout(grid_area='widget001', h…"
      ]
     },
     "metadata": {},
     "output_type": "display_data"
    }
   ],
   "source": [
    "from ipywidgets.widgets import HTML, GridspecLayout, Button, Layout\n",
    "from IPython.display import display\n",
    "\n",
    "def create_expanded_button(description, button_style):\n",
    "    return Button(description=description, button_style=button_style, layout=Layout(height='32px', width='176px'))\n",
    "\n",
    "text = HTML(message)\n",
    "\n",
    "button_yes = create_expanded_button('Yes', 'info')\n",
    "button_no = create_expanded_button('No', '')\n",
    "\n",
    "buttons = GridspecLayout(1, 5)\n",
    "buttons[0, 0] = button_yes\n",
    "buttons[0, 1] = button_no\n",
    "\n",
    "def disable_buttons():\n",
    "    button_yes.disabled = True\n",
    "    button_no.disabled = True\n",
    "\n",
    "def on_button_yes_clicked(b):\n",
    "    disable_buttons()\n",
    "    display(HTML('Yes'))\n",
    "    \n",
    "def on_button_no_clicked(b):\n",
    "    disable_buttons()\n",
    "    display(HTML('No'))\n",
    "    \n",
    "button_yes.on_click(on_button_yes_clicked)\n",
    "button_no.on_click(on_button_no_clicked)\n",
    "\n",
    "display(text, buttons)"
   ]
  },
  {
   "cell_type": "code",
   "execution_count": 7,
   "metadata": {},
   "outputs": [],
   "source": [
    "from cartoframes.auth import Credentials\n",
    "from cartoframes.data.observatory import Dataset, Catalog"
   ]
  },
  {
   "cell_type": "code",
   "execution_count": 4,
   "metadata": {},
   "outputs": [],
   "source": [
    "dataset = Dataset.get('carto-do-public-data.acs.demographics_acs_usa_cbsaclipped_2015_5yrs_20132017')"
   ]
  },
  {
   "cell_type": "code",
   "execution_count": 10,
   "metadata": {},
   "outputs": [
    {
     "data": {
      "application/vnd.jupyter.widget-view+json": {
       "model_id": "04b75014ebc541b88947516108d17b5d",
       "version_major": 2,
       "version_minor": 0
      },
      "text/plain": [
       "HTML(value='\\n<h3>Subscription contract</h3>\\nYou are about to subscribe to <b>%{dataset_name}</b>. The cost o…"
      ]
     },
     "metadata": {},
     "output_type": "display_data"
    },
    {
     "data": {
      "application/vnd.jupyter.widget-view+json": {
       "model_id": "f0021b1f92a34ffd81af1a3f0562563e",
       "version_major": 2,
       "version_minor": 0
      },
      "text/plain": [
       "GridspecLayout(children=(Button(button_style='info', description='Yes', layout=Layout(grid_area='widget001', h…"
      ]
     },
     "metadata": {},
     "output_type": "display_data"
    }
   ],
   "source": [
    "credentials = Credentials('arroyo-carto', '26b674ea4f1f5e751ccb9559e4bb4ac4f9e65126')\n",
    "dataset.subscribe(credentials)"
   ]
  }
 ],
 "metadata": {
  "kernelspec": {
   "display_name": "Python 3",
   "language": "python",
   "name": "python3"
  },
  "language_info": {
   "codemirror_mode": {
    "name": "ipython",
    "version": 3
   },
   "file_extension": ".py",
   "mimetype": "text/x-python",
   "name": "python",
   "nbconvert_exporter": "python",
   "pygments_lexer": "ipython3",
   "version": "3.6.7"
  }
 },
 "nbformat": 4,
 "nbformat_minor": 2
}
